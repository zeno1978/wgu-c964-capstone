{
 "cells": [
  {
   "cell_type": "code",
   "execution_count": 14,
   "id": "113e5e8c-2409-4d49-9213-1b2e6a2d609b",
   "metadata": {},
   "outputs": [
    {
     "name": "stdout",
     "output_type": "stream",
     "text": [
      "Prediction: Will Stay\n"
     ]
    }
   ],
   "source": [
    "import joblib\n",
    "import pandas as pd\n",
    "\n",
    "# Load the saved model, scaler, and columns\n",
    "log_model = joblib.load('models/logistic_model.joblib')\n",
    "scaler = joblib.load('models/scaler.joblib')\n",
    "model_columns = joblib.load('models/model_columns.joblib')\n",
    "\n",
    "# Input Employee Info\n",
    "user_input_raw = {\n",
    "    'Age': 34,\n",
    "    'Years at Company': 6,\n",
    "    'Monthly Income': 7200, # In USD\n",
    "    'Number of Promotions': 1,\n",
    "    'Distance from Home': 12,  # In miles\n",
    "    'Number of Dependents': 2,\n",
    "    'Company Tenure': 6,\n",
    "    \n",
    "    'Gender': 'Male',  # [Male/Female]\n",
    "    \n",
    "    'Job Role': 'Technology',  # ['Education', 'Finance', 'Healthcare', 'Media', 'Technology']\n",
    "    \n",
    "    'Work-Life Balance': 'Poor',  # ['Poor', 'Fair', 'Good', 'Excellent']\n",
    "    \n",
    "    'Job Satisfaction': 'Low',  # ['Low', 'Medium', 'High', 'Very High']\n",
    "    \n",
    "    'Performance Rating': 'Below Average',  # ['Low', 'Below Average', 'Average', 'High']\n",
    "    \n",
    "    'Overtime': 'Yes',  # [Yes/No]\n",
    "    \n",
    "    'Education Level': \"High School\",  # ['High School', 'Associate Degree', 'Bachelor’s Degree', 'Master’s Degree', 'PhD']\n",
    "    \n",
    "    'Marital Status': 'Single',  # ['Single', 'Married', 'Divorced']\n",
    "    \n",
    "    'Job Level': 'Entry',  # ['Entry', 'Mid', 'Senior']\n",
    "    \n",
    "    'Company Size': 'Small',  # ['Small', 'Medium', 'Large']\n",
    "    \n",
    "    'Remote Work': 'Yes',  # [Yes/No]\n",
    "    \n",
    "    'Leadership Opportunities': 'Yes',  # [Yes/No]\n",
    "    \n",
    "    'Innovation Opportunities': 'Yes',  # [Yes/No]\n",
    "    \n",
    "    'Company Reputation': 'Poor',  # ['Poor', 'Fair', 'Good', 'Excellent']\n",
    "    \n",
    "    'Employee Recognition': 'Low',  # ['Low', 'Medium', 'High', 'Very High']\n",
    "}\n",
    "\n",
    "# Convert to DataFrame\n",
    "user_df = pd.DataFrame([user_input_raw])\n",
    "\n",
    "# One-hot encode\n",
    "user_encoded = pd.get_dummies(user_df, drop_first=True)\n",
    "\n",
    "# Reindex to match training features\n",
    "user_encoded = user_encoded.reindex(columns=model_columns, fill_value=0)\n",
    "\n",
    "# Scale and Predict\n",
    "user_scaled = scaler.transform(user_encoded)\n",
    "user_scaled_df = pd.DataFrame(user_scaled, columns=model_columns)\n",
    "prediction = log_model.predict(user_scaled_df)\n",
    "\n",
    "# Display result\n",
    "print(\"Prediction:\", \"Will Leave\" if prediction[0] == 1 else \"Will Stay\")"
   ]
  },
  {
   "cell_type": "code",
   "execution_count": null,
   "id": "0c8c5043-5064-45ad-88f7-34f8ff0c3011",
   "metadata": {},
   "outputs": [],
   "source": []
  }
 ],
 "metadata": {
  "kernelspec": {
   "display_name": "Python 3 (ipykernel)",
   "language": "python",
   "name": "python3"
  },
  "language_info": {
   "codemirror_mode": {
    "name": "ipython",
    "version": 3
   },
   "file_extension": ".py",
   "mimetype": "text/x-python",
   "name": "python",
   "nbconvert_exporter": "python",
   "pygments_lexer": "ipython3",
   "version": "3.11.13"
  }
 },
 "nbformat": 4,
 "nbformat_minor": 5
}
