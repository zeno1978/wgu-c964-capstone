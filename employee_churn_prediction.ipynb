{
 "cells": [
  {
   "cell_type": "code",
   "execution_count": 7,
   "id": "bdad3d6b-699b-424e-836c-41ba56f9a4c1",
   "metadata": {},
   "outputs": [],
   "source": [
    "import pandas as pd\n",
    "import numpy as np\n",
    "import matplotlib.pyplot as plt\n",
    "import seaborn as sns\n",
    "from sklearn.model_selection import train_test_split\n",
    "from sklearn.metrics import classification_report, confusion_matrix\n",
    "from sklearn.preprocessing import StandardScaler\n",
    "from imblearn.over_sampling import SMOTE\n",
    "\n",
    "# Load datasets\n",
    "train_df= pd.read_csv('./data/train.csv')\n",
    "test_df= pd.read_csv('./data/test.csv')\n",
    "\n",
    "# Display all columns\n",
    "pd.set_option('display.max_columns', None)\n",
    "\n",
    "# One-hot encoding or label encoding\n",
    "train_encoded = pd.get_dummies(train_df, drop_first=True)\n",
    "test_encoded = pd.get_dummies(test_df, drop_first=True)\n",
    "\n",
    "# create target column\n",
    "train_encoded['Attrition_Yes'] = 1 - train_encoded['Attrition_Stayed']\n",
    "test_encoded['Attrition_Yes'] = 1 - test_encoded['Attrition_Stayed']\n",
    "train_encoded = train_encoded.drop('Attrition_Stayed', axis=1)\n",
    "test_encoded = test_encoded.drop('Attrition_Stayed', axis=1)\n",
    "\n",
    "X_train = train_encoded.drop('Attrition_Yes', axis=1)\n",
    "y_train = train_encoded['Attrition_Yes']\n",
    "\n",
    "X_test = test_encoded.drop('Attrition_Yes', axis=1)\n",
    "y_test = test_encoded['Attrition_Yes']\n",
    "\n",
    "X_test = X_test.reindex(columns=X_train.columns, fill_value=0)\n",
    "\n",
    "scaler = StandardScaler()\n",
    "X_train_scaled = scaler.fit_transform(X_train)\n",
    "X_test_scaled = scaler.transform(X_test)\n"
   ]
  },
  {
   "cell_type": "code",
   "execution_count": 8,
   "id": "d849cc7b-b5c3-486b-9d26-6cf1c2db8db1",
   "metadata": {},
   "outputs": [
    {
     "name": "stdout",
     "output_type": "stream",
     "text": [
      "Logistic Regression Results:\n",
      "              precision    recall  f1-score   support\n",
      "\n",
      "           0       0.77      0.75      0.76      7868\n",
      "           1       0.73      0.76      0.74      7032\n",
      "\n",
      "    accuracy                           0.75     14900\n",
      "   macro avg       0.75      0.75      0.75     14900\n",
      "weighted avg       0.75      0.75      0.75     14900\n",
      "\n",
      "[[5902 1966]\n",
      " [1716 5316]]\n"
     ]
    }
   ],
   "source": [
    "# Logistic Regression\n",
    "from sklearn.linear_model import LogisticRegression\n",
    "\n",
    "log_model = LogisticRegression(max_iter=1000, class_weight='balanced', random_state=42)\n",
    "log_model.fit(X_train_scaled, y_train)\n",
    "y_pred_log = log_model.predict(X_test_scaled)\n",
    "\n",
    "print(\"Logistic Regression Results:\")\n",
    "print(classification_report(y_test, y_pred_log))\n",
    "print(confusion_matrix(y_test, y_pred_log))"
   ]
  },
  {
   "cell_type": "code",
   "execution_count": 3,
   "id": "fb07feac-5799-4c5a-b2c0-49387fb9092c",
   "metadata": {},
   "outputs": [
    {
     "name": "stdout",
     "output_type": "stream",
     "text": [
      "\n",
      "Random Forest Results:\n",
      "              precision    recall  f1-score   support\n",
      "\n",
      "           0       0.76      0.78      0.77      7868\n",
      "           1       0.74      0.72      0.73      7032\n",
      "\n",
      "    accuracy                           0.75     14900\n",
      "   macro avg       0.75      0.75      0.75     14900\n",
      "weighted avg       0.75      0.75      0.75     14900\n",
      "\n",
      "[[6101 1767]\n",
      " [1974 5058]]\n"
     ]
    }
   ],
   "source": [
    "# Random Forest\n",
    "from sklearn.ensemble import RandomForestClassifier\n",
    "\n",
    "rf_model = RandomForestClassifier(n_estimators=100, class_weight='balanced', random_state=42)\n",
    "rf_model.fit(X_train, y_train)  # No scaling needed for trees\n",
    "y_pred_rf = rf_model.predict(X_test)\n",
    "\n",
    "print(\"\\nRandom Forest Results:\")\n",
    "print(classification_report(y_test, y_pred_rf))\n",
    "print(confusion_matrix(y_test, y_pred_rf))"
   ]
  },
  {
   "cell_type": "code",
   "execution_count": 5,
   "id": "fa5f3ef7-1c40-4bdd-9c4e-d2fb4cbb8c79",
   "metadata": {},
   "outputs": [
    {
     "name": "stdout",
     "output_type": "stream",
     "text": [
      "XGBoost Results:\n",
      "              precision    recall  f1-score   support\n",
      "\n",
      "           0       0.76      0.76      0.76      7868\n",
      "           1       0.73      0.74      0.74      7032\n",
      "\n",
      "    accuracy                           0.75     14900\n",
      "   macro avg       0.75      0.75      0.75     14900\n",
      "weighted avg       0.75      0.75      0.75     14900\n",
      "\n",
      "[[5978 1890]\n",
      " [1843 5189]]\n"
     ]
    }
   ],
   "source": [
    "from xgboost import XGBClassifier\n",
    "\n",
    "# Train XGBoost\n",
    "xgb_model = XGBClassifier(eval_metric='logloss', random_state=42)\n",
    "xgb_model.fit(X_train_scaled, y_train)\n",
    "\n",
    "# Predict\n",
    "y_pred_xgb = xgb_model.predict(X_test_scaled)\n",
    "\n",
    "# Evaluate\n",
    "print(\"XGBoost Results:\")\n",
    "print(classification_report(y_test, y_pred_xgb))\n",
    "print(confusion_matrix(y_test, y_pred_xgb))"
   ]
  },
  {
   "cell_type": "code",
   "execution_count": null,
   "id": "30f0552a-6bad-4a03-a3a1-cfd1703b973c",
   "metadata": {},
   "outputs": [],
   "source": []
  }
 ],
 "metadata": {
  "kernelspec": {
   "display_name": "Python 3 (ipykernel)",
   "language": "python",
   "name": "python3"
  },
  "language_info": {
   "codemirror_mode": {
    "name": "ipython",
    "version": 3
   },
   "file_extension": ".py",
   "mimetype": "text/x-python",
   "name": "python",
   "nbconvert_exporter": "python",
   "pygments_lexer": "ipython3",
   "version": "3.11.13"
  }
 },
 "nbformat": 4,
 "nbformat_minor": 5
}
